{
 "cells": [
  {
   "cell_type": "code",
   "execution_count": null,
   "id": "23c9e845",
   "metadata": {},
   "outputs": [],
   "source": [
    "import pybullet as p\n",
    "import pybullet_data as pd\n",
    "import os\n",
    "import tqdm\n",
    "import json\n",
    "from pathlib import Path"
   ]
  },
  {
   "cell_type": "code",
   "execution_count": null,
   "id": "c907194b",
   "metadata": {},
   "outputs": [],
   "source": [
    "dataset_base = \"ShapeNetCore.v2\" #Enter folder name for shapenet data"
   ]
  },
  {
   "cell_type": "code",
   "execution_count": null,
   "id": "b88c403d",
   "metadata": {},
   "outputs": [],
   "source": [
    "class_name_mapping = json.loads(Path(\"shape_info.json\").read_text())  # mapping for ShapeNet ids -> names\n",
    "classes = class_name_mapping.keys()\n",
    "\n",
    "classes = list(classes)\n",
    "p.connect(p.DIRECT)\n",
    "\n",
    "for cls in classes:\n",
    "    input_dir = os.path.join(dataset_base, f\"{cls}\")\n",
    "    curr_dir = os.path.join(\"shapenet_reduced\",f\"{cls}\")\n",
    "    if not os.path.exists(curr_dir):\n",
    "        os.mkdir(curr_dir)\n",
    "    for shape in tqdm.tqdm(os.listdir(input_dir)):\n",
    "        if shape != \"7edb40d76dff7455c2ff7551a4114669\" and shape != \"95ebb3fd80f885ad676f197a68a5168a\" and shape != \"ae9b244f9bee122ba35db63c2ad6fc71\":\n",
    "            if not os.path.exists(os.path.join(curr_dir, f\"{shape}\")):\n",
    "                os.mkdir(os.path.join(curr_dir, f\"{shape}\"))\n",
    "            name_in = os.path.join(input_dir,f\"{shape}/models/model_normalized.obj\")\n",
    "            name_out = os.path.join(curr_dir,f\"{shape}/{shape}.obj\")\n",
    "            name_log = os.path.join(curr_dir,f\"{shape}/log.txt\")\n",
    "            p.vhacd(name_in, name_out, name_log, resolution=10000, minVolumePerCH=0.001, maxNumVerticesPerCH=12)"
   ]
  },
  {
   "cell_type": "code",
   "execution_count": null,
   "id": "d2193cf9",
   "metadata": {},
   "outputs": [],
   "source": []
  }
 ],
 "metadata": {
  "kernelspec": {
   "display_name": "Python 3 (ipykernel)",
   "language": "python",
   "name": "python3"
  },
  "language_info": {
   "codemirror_mode": {
    "name": "ipython",
    "version": 3
   },
   "file_extension": ".py",
   "mimetype": "text/x-python",
   "name": "python",
   "nbconvert_exporter": "python",
   "pygments_lexer": "ipython3",
   "version": "3.7.11"
  }
 },
 "nbformat": 4,
 "nbformat_minor": 5
}
