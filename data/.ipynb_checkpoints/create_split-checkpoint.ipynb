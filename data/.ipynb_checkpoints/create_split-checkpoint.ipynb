{
 "cells": [
  {
   "cell_type": "code",
   "execution_count": 12,
   "id": "0d384ce7",
   "metadata": {},
   "outputs": [],
   "source": [
    "import os\n",
    "from sklearn.model_selection import train_test_split\n",
    "from pathlib import Path"
   ]
  },
  {
   "cell_type": "code",
   "execution_count": 13,
   "id": "ce34456a",
   "metadata": {},
   "outputs": [],
   "source": [
    "class_id = \"02691156\"\n",
    "split_name = \"airplane\""
   ]
  },
  {
   "cell_type": "code",
   "execution_count": 14,
   "id": "2d2a12be",
   "metadata": {},
   "outputs": [],
   "source": [
    "train_split =Path(f\"splits/shapenet/train.txt\").read_text().splitlines()  # keep track of shapes based on split"
   ]
  },
  {
   "cell_type": "code",
   "execution_count": 18,
   "id": "695b69fa",
   "metadata": {},
   "outputs": [],
   "source": [
    "output_file_train = f\"splits/shapenet/{split_name}_train.txt\"\n",
    "output_file_overfit = f\"splits/shapenet/{split_name}_train.txt\""
   ]
  },
  {
   "cell_type": "code",
   "execution_count": null,
   "id": "5247494f",
   "metadata": {},
   "outputs": [],
   "source": []
  }
 ],
 "metadata": {
  "kernelspec": {
   "display_name": "Python 3",
   "language": "python",
   "name": "python3"
  },
  "language_info": {
   "codemirror_mode": {
    "name": "ipython",
    "version": 3
   },
   "file_extension": ".py",
   "mimetype": "text/x-python",
   "name": "python",
   "nbconvert_exporter": "python",
   "pygments_lexer": "ipython3",
   "version": "3.7.11"
  }
 },
 "nbformat": 4,
 "nbformat_minor": 5
}
