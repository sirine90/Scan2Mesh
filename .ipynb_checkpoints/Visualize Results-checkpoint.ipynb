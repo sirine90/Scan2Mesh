{
 "cells": [
  {
   "cell_type": "code",
   "execution_count": 160,
   "id": "f0750b6f",
   "metadata": {},
   "outputs": [
    {
     "name": "stdout",
     "output_type": "stream",
     "text": [
      "The autoreload extension is already loaded. To reload it, use:\n",
      "  %reload_ext autoreload\n"
     ]
    }
   ],
   "source": [
    "import torch\n",
    "from data.shapenet import ShapeNet\n",
    "from model.vertix_model import VertixModel\n",
    "import tqdm\n",
    "from util.visualization import visualize_pointcloud, visualize_mesh, visualize_sdf\n",
    "import random\n",
    "%load_ext autoreload\n",
    "%autoreload 2\n",
    "import numpy as np\n",
    "import pickle\n",
    "from scipy.spatial import distance_matrix\n",
    "from scipy.optimize import linear_sum_assignment\n",
    "from sklearn.utils import class_weight\n",
    "import trimesh\n",
    "import pymeshlab as pmlab\n",
    "from util.marching_cubes import *"
   ]
  },
  {
   "cell_type": "code",
   "execution_count": 4,
   "id": "62ecccda",
   "metadata": {},
   "outputs": [],
   "source": [
    "num_vertices = 100"
   ]
  },
  {
   "cell_type": "code",
   "execution_count": 5,
   "id": "cbe67a4b",
   "metadata": {},
   "outputs": [],
   "source": [
    "config = {\n",
    "    'device': 'cpu',  \n",
    "    'sdf_path': 'data/shapenet_dim32_sdf',\n",
    "    'meshes_path': 'data/shapenet_reduced',\n",
    "    'class_mapping': 'data/shape_info.json',\n",
    "    'split': 'val',\n",
    "    'num_vertices': num_vertices,\n",
    "    'feature_size': 512,\n",
    "    'num_trajectories': 2,\n",
    "}"
   ]
  },
  {
   "cell_type": "code",
   "execution_count": 6,
   "id": "33d4f501",
   "metadata": {},
   "outputs": [],
   "source": [
    "dataset = ShapeNet(sdf_path=config[\"sdf_path\"],\n",
    "                         meshes_path=config[\"meshes_path\"],\n",
    "                         class_mapping=config[\"class_mapping\"],\n",
    "                         split = config[\"split\"], threshold=config[\"num_vertices\"], num_trajectories=config[\"num_trajectories\"])\n"
   ]
  },
  {
   "cell_type": "code",
   "execution_count": 7,
   "id": "d148f352",
   "metadata": {},
   "outputs": [
    {
     "name": "stdout",
     "output_type": "stream",
     "text": [
      "Length of dataset: 32304\n",
      "Filtering data ..\n"
     ]
    },
    {
     "name": "stderr",
     "output_type": "stream",
     "text": [
      "100%|███████████████████████████████████| 32304/32304 [00:05<00:00, 5420.48it/s]"
     ]
    },
    {
     "name": "stdout",
     "output_type": "stream",
     "text": [
      "Length of dataset: 5474\n"
     ]
    },
    {
     "name": "stderr",
     "output_type": "stream",
     "text": [
      "\n"
     ]
    }
   ],
   "source": [
    "dataset.filter_data()"
   ]
  },
  {
   "cell_type": "code",
   "execution_count": 12,
   "id": "fe04aceb",
   "metadata": {},
   "outputs": [],
   "source": [
    "from inference.inference_mesh import InferenceHandlerMesh\n",
    "\n",
    "inferer = InferenceHandlerMesh(vertix_edge_ckpt='runs/vertix_edge_hungarian_train/model_best.ckpt',\n",
    "                               face_model_ckpt='runs/face_model_chamfer/model_best.ckpt', \n",
    "                               num_vertices=config[\"num_vertices\"], \n",
    "                               feature_size=config[\"feature_size\"], \n",
    "                               device=config[\"device\"])"
   ]
  },
  {
   "cell_type": "code",
   "execution_count": 13,
   "id": "dcadb433",
   "metadata": {},
   "outputs": [],
   "source": [
    "x_indices = []\n",
    "y_indices = []\n",
    "\n",
    "graph = np.ones((1,config[\"num_vertices\"], config[\"num_vertices\"],1))\n",
    "\n",
    "for i in range(config[\"num_vertices\"]):\n",
    "    for j in range(config[\"num_vertices\"]):\n",
    "        x_indices.append(i)\n",
    "        y_indices.append(j)"
   ]
  },
  {
   "cell_type": "code",
   "execution_count": 212,
   "id": "05b561cf",
   "metadata": {},
   "outputs": [],
   "source": [
    "def visualize_random():\n",
    "    random_sample = random.randint(0,len(dataset)-1)\n",
    "    shape_id, original_sdf , input_sdf, target_vertices, mask, target_edges, edges_adj = dataset[random_sample]\n",
    "    \n",
    "    gt_faces = []\n",
    "    \n",
    "    num_vertices= config[\"num_vertices\"]\n",
    "    \n",
    "    print(shape_id)\n",
    "    \n",
    "\n",
    "    for i in range(num_vertices):\n",
    "        for j in range(num_vertices):\n",
    "            for k in range(num_vertices):\n",
    "                if target_edges[i][j] and target_edges[j][k] and target_edges[k][i]:     \n",
    "                    gt_faces.append(np.array([i,j,k]).reshape(1,-1))\n",
    "                    \n",
    "    gt_faces = np.concatenate(gt_faces,0)\n",
    "    \n",
    "    input_vertices, input_edges = marching_cubes(original_sdf)\n",
    "        \n",
    "    predicted_vertices, candidate_faces, predicted_faces = inferer.infer_single(input_sdf, mask, x_indices, y_indices, edges_adj)\n",
    "    \n",
    "    print(\"Input scan\")\n",
    "    \n",
    "    visualize_mesh(input_vertices, input_edges)\n",
    "    \n",
    "    print(\"GT\")\n",
    "    \n",
    "    visualize_mesh(target_vertices, gt_faces)\n",
    "    \n",
    "    print(\"Predicted vertices\")\n",
    "    \n",
    "    visualize_pointcloud(predicted_vertices, point_size=0.02)\n",
    "\n",
    "\n",
    "    print(\"Predicted edges\")\n",
    "    \n",
    "    visualize_mesh(predicted_vertices, candidate_faces)\n",
    "    \n",
    "    print(\"Predicted faces\")\n",
    "\n",
    "            \n",
    "    visualize_mesh(predicted_vertices, predicted_faces)\n",
    "    "
   ]
  },
  {
   "cell_type": "code",
   "execution_count": 213,
   "id": "bfb470a4",
   "metadata": {},
   "outputs": [
    {
     "name": "stdout",
     "output_type": "stream",
     "text": [
      "04256520/b33ce45211c0950e3ca067e8715715df\n",
      "Input scan\n"
     ]
    },
    {
     "data": {
      "application/vnd.jupyter.widget-view+json": {
       "model_id": "230f9da63dbd4b70901fbdba5e893e02",
       "version_major": 2,
       "version_minor": 0
      },
      "text/plain": [
       "Output()"
      ]
     },
     "metadata": {},
     "output_type": "display_data"
    },
    {
     "name": "stdout",
     "output_type": "stream",
     "text": [
      "GT\n"
     ]
    },
    {
     "data": {
      "application/vnd.jupyter.widget-view+json": {
       "model_id": "30d0236cc8cc425884be0b8367f25ab0",
       "version_major": 2,
       "version_minor": 0
      },
      "text/plain": [
       "Output()"
      ]
     },
     "metadata": {},
     "output_type": "display_data"
    },
    {
     "name": "stdout",
     "output_type": "stream",
     "text": [
      "Predicted vertices\n"
     ]
    },
    {
     "data": {
      "application/vnd.jupyter.widget-view+json": {
       "model_id": "c3e40a2d9105463aa3d3d941cd667f9c",
       "version_major": 2,
       "version_minor": 0
      },
      "text/plain": [
       "Output()"
      ]
     },
     "metadata": {},
     "output_type": "display_data"
    },
    {
     "name": "stdout",
     "output_type": "stream",
     "text": [
      "Predicted edges\n"
     ]
    },
    {
     "data": {
      "application/vnd.jupyter.widget-view+json": {
       "model_id": "e22ea757e8294b3dba0ef24e6baace2c",
       "version_major": 2,
       "version_minor": 0
      },
      "text/plain": [
       "Output()"
      ]
     },
     "metadata": {},
     "output_type": "display_data"
    },
    {
     "name": "stdout",
     "output_type": "stream",
     "text": [
      "Predicted faces\n"
     ]
    },
    {
     "data": {
      "application/vnd.jupyter.widget-view+json": {
       "model_id": "695a4f08a7c1449e8f6782601d4e9ae8",
       "version_major": 2,
       "version_minor": 0
      },
      "text/plain": [
       "Output()"
      ]
     },
     "metadata": {},
     "output_type": "display_data"
    }
   ],
   "source": [
    "visualize_random()"
   ]
  },
  {
   "cell_type": "code",
   "execution_count": null,
   "id": "bc45e50b",
   "metadata": {},
   "outputs": [],
   "source": []
  }
 ],
 "metadata": {
  "kernelspec": {
   "display_name": "Python [conda env:pytorch3d]",
   "language": "python",
   "name": "conda-env-pytorch3d-py"
  },
  "language_info": {
   "codemirror_mode": {
    "name": "ipython",
    "version": 3
   },
   "file_extension": ".py",
   "mimetype": "text/x-python",
   "name": "python",
   "nbconvert_exporter": "python",
   "pygments_lexer": "ipython3",
   "version": "3.9.7"
  }
 },
 "nbformat": 4,
 "nbformat_minor": 5
}
